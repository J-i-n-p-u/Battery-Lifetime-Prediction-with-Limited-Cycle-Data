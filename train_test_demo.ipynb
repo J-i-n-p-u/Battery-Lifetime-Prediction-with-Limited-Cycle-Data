{
 "cells": [
  {
   "cell_type": "code",
   "execution_count": 1,
   "id": "f17d5a7d",
   "metadata": {},
   "outputs": [],
   "source": [
    "import tensorflow as tf\n",
    "import prepare_data \n",
    "import RNN_model\n",
    "import train_test"
   ]
  },
  {
   "cell_type": "code",
   "execution_count": 2,
   "id": "2e411c5d",
   "metadata": {},
   "outputs": [
    {
     "name": "stdout",
     "output_type": "stream",
     "text": [
      "--------------------------------------------------\n",
      "Loading 'processed_data.pkl'\n",
      "\n",
      "--------------------------------------------------\n",
      "Extracting X1, X2, Y from 'processed_data.pkl' (circle = 5)\n",
      "--------------------------------------------------\n"
     ]
    },
    {
     "name": "stderr",
     "output_type": "stream",
     "text": [
      "100%|████████████████████████████████████████████████████████████████████████████████| 124/124 [00:27<00:00,  4.48it/s]\n"
     ]
    },
    {
     "name": "stdout",
     "output_type": "stream",
     "text": [
      "total num of samples: 19571\n",
      "\n",
      "--------------------------------------------------\n",
      "Normalizing X1, X2, Y to 0~1\n",
      "--------------------------------------------------\n",
      "\t\t Tdlin \t\t Qdlin \t\t Vdlin\n",
      "X1_min: [ 0.       20.900028  2.      ]\n",
      "X1_max: [ 1.5279601  43.10046953  3.5       ]\n",
      "\n",
      "\t\t Discharge_time \t IR \t QD\n",
      "X2_min: [6.28092333 0.         0.88099587]\n",
      "X2_max: [2.41972717e+01 2.32214690e-02 2.88408450e+00]\n",
      "\n",
      "Y_min: 16 \tY_max 2241\n",
      "\n",
      "--------------------------------------------------\n",
      "Spliting samples into train, val, test\n",
      "--------------------------------------------------\n",
      "split ratio: [0.8, 0.1, 0.1]\n",
      "Train:Val:Test = 15656:           1957:1958\n",
      "Saving to train_val_test_5.npz...\n",
      "\n",
      "--------------------------------------------------\n",
      "Sahpe of Train\n",
      "--------------------------------------------------\n",
      "X1_train Shape: (15656, 5, 1000, 3)\n",
      "X2_train Shape: (15656, 5, 3)\n",
      "Y_train Shape: (15656, 1)\n",
      "(None, 1)\n",
      "Model: \"model\"\n",
      "_________________________________________________________________\n",
      "Layer (type)                 Output Shape              Param #   \n",
      "=================================================================\n",
      "input (InputLayer)           [(None, 5, 303)]          0         \n",
      "_________________________________________________________________\n",
      "bidirectional (Bidirectional (None, 1024)              3342336   \n",
      "_________________________________________________________________\n",
      "dropout (Dropout)            (None, 1024)              0         \n",
      "_________________________________________________________________\n",
      "dense (Dense)                (None, 300)               307500    \n",
      "_________________________________________________________________\n",
      "dense_1 (Dense)              (None, 300)               90300     \n",
      "_________________________________________________________________\n",
      "dense_2 (Dense)              (None, 300)               90300     \n",
      "_________________________________________________________________\n",
      "dropout_1 (Dropout)          (None, 300)               0         \n",
      "_________________________________________________________________\n",
      "dense_3 (Dense)              (None, 1)                 301       \n",
      "=================================================================\n",
      "Total params: 3,830,737\n",
      "Trainable params: 3,830,737\n",
      "Non-trainable params: 0\n",
      "_________________________________________________________________\n",
      "None\n",
      "1\n",
      "Epoch 1/5\n",
      "245/245 [==============================] - 43s 168ms/step - loss: 0.0192 - val_loss: 0.0143\n",
      "Epoch 2/5\n",
      "245/245 [==============================] - 18s 75ms/step - loss: 0.0111 - val_loss: 0.0105\n",
      "Epoch 3/5\n",
      "245/245 [==============================] - 18s 75ms/step - loss: 0.0099 - val_loss: 0.0097\n",
      "Epoch 4/5\n",
      "245/245 [==============================] - 18s 74ms/step - loss: 0.0093 - val_loss: 0.0091\n",
      "Epoch 5/5\n",
      "245/245 [==============================] - 20s 81ms/step - loss: 0.0086 - val_loss: 0.0070\n"
     ]
    },
    {
     "name": "stderr",
     "output_type": "stream",
     "text": [
      "WARNING:absl:Found untraced functions such as lstm_cell_1_layer_call_fn, lstm_cell_1_layer_call_and_return_conditional_losses, lstm_cell_2_layer_call_fn, lstm_cell_2_layer_call_and_return_conditional_losses, lstm_cell_1_layer_call_fn while saving (showing 5 of 10). These functions will not be directly callable after loading.\n"
     ]
    },
    {
     "name": "stdout",
     "output_type": "stream",
     "text": [
      "INFO:tensorflow:Assets written to: circle_5/model/1\\assets\n"
     ]
    },
    {
     "name": "stderr",
     "output_type": "stream",
     "text": [
      "INFO:tensorflow:Assets written to: circle_5/model/1\\assets\n"
     ]
    },
    {
     "name": "stdout",
     "output_type": "stream",
     "text": [
      "Y_test.shape (15656, 1)\n",
      "yhat.shape (15656, 1)\n",
      "Y_test.shape (1957, 1)\n",
      "yhat.shape (1957, 1)\n",
      "Y_test.shape (1958, 1)\n",
      "yhat.shape (1958, 1)\n",
      "              mae        rmse      mape        r2\n",
      "train  114.759837  188.914680  0.246706  0.757817\n",
      "val    112.654980  185.659317  0.240387  0.767194\n",
      "test   114.168251  185.243060  0.252344  0.752708\n"
     ]
    },
    {
     "data": {
      "image/png": "[encoded data removed]",
      "text/plain": [
       "<Figure size 432x288 with 1 Axes>"
      ]
     },
     "metadata": {
      "needs_background": "light"
     },
     "output_type": "display_data"
    }
   ],
   "source": [
    "data_config = dict(\n",
    "    split_ratio=[0.8, 0.1, 0.1],\n",
    "    n = 5,\n",
    "    resample_step = 10,\n",
    "    resample_method = 'first',\n",
    "    reshape_x1_method = 'circle to row',\n",
    "    # reshape_x1_method = 'circle to col',\n",
    "    )\n",
    "\n",
    "# Define the model paras\n",
    "model_config = dict(\n",
    "    model_name = '',\n",
    "    model_type = 'm1',\n",
    "    # model_type = 'Bi_LSTM',\n",
    "    networks = 'Bi_LSTM',\n",
    "    epochs=5,\n",
    "    batch_size=64,\n",
    "    rnn_units= [512],\n",
    "    dropout_rate=0.1,\n",
    "    attention_units=0,\n",
    "    dense_units = 300,\n",
    "    shuffle=True,\n",
    "    loss=tf.keras.losses.MeanSquaredError(),\n",
    "    optimizer=tf.keras.optimizers.Adam(learning_rate=0.0001),\n",
    "    patience=100,\n",
    ")\n",
    "# create dir to save model\n",
    "prepare_data.create_new_dir(data_config, model_config)\n",
    "\n",
    "model_config['model_name'] = prepare_data.generate_model_name(data_config, model_config)\n",
    "\n",
    "# create xy data from processed_data.pkl\n",
    "train, val, test, norm_paras = prepare_data.create(n = data_config['n'],\n",
    "                                                    split_ratio=data_config['split_ratio'])\n",
    "\n",
    "# OR load xy data\n",
    "# train, val, test, norm_paras = retrieve_train_val_test(data_config)\n",
    "\n",
    "X1_train, X2_train, Y_train, data_names_train = train\n",
    "X1_val, X2_val, Y_val, data_names_val = val\n",
    "X1_test, X2_test, Y_test, data_names_test = test\n",
    "# del train, val, test\n",
    "\n",
    "X_train, X_val, X_test = prepare_data.prepare_x(X1_train, X1_val, X1_test, \n",
    "                                    X2_train, X2_val, X2_test, \n",
    "                                    data_config, model_config)\n",
    "\n",
    "# build model\n",
    "model = RNN_model.build_model_1(X_train, Y_train, model_config)\n",
    "\n",
    "data_xy = (X_train, Y_train, X_val, Y_val, X_test, Y_test)\n",
    "\n",
    "# train model, save, plot loss, plot model\n",
    "train_test.fit_model(model, data_xy, model_config, data_config)\n",
    "\n",
    "train_test.evaluate(model, data_xy, data_names_test, data_config, model_config, norm_paras)"
   ]
  },
  {
   "cell_type": "code",
   "execution_count": 3,
   "id": "5296e359",
   "metadata": {},
   "outputs": [
    {
     "name": "stdout",
     "output_type": "stream",
     "text": [
      "X_train.shape: (15656, 5, 303) \tY_train.shape: (15656, 1)\n",
      "X_val.shape: (1957, 5, 303) \tY_val.shape: (1957, 1)\n",
      "X_test.shape: (1958, 5, 303) \tY_train.shape: (1958, 1)\n"
     ]
    }
   ],
   "source": [
    "print('X_train.shape:',X_train.shape, '\\tY_train.shape:',Y_train.shape)\n",
    "print('X_val.shape:',X_val.shape, '\\tY_val.shape:',Y_val.shape)\n",
    "print('X_test.shape:',X_test.shape, '\\tY_train.shape:',Y_test.shape)"
   ]
  },
  {
   "cell_type": "markdown",
   "id": "943b4492",
   "metadata": {},
   "source": [
    "(None, 5, 303)\n",
    "*   None: # samples\n",
    "*   5: # circles\n",
    "*   303: (1000/10) + (1000/10) + (1000/10) + 3 <br>\n",
    "> For each cycle, 3 series (V, Q, T, each 1000), resample by freq 10 <br>\n",
    "> For each cycle, 3 scalar (Discharge_time, IR, QD)"
   ]
  },
  {
   "cell_type": "code",
   "execution_count": null,
   "id": "c613dcd6",
   "metadata": {},
   "outputs": [],
   "source": [
    "# Train and test in one fucntion\n",
    "train_test.train_and_eval(data_config, model_config)"
   ]
  },
  {
   "cell_type": "markdown",
   "id": "4eebb7b0",
   "metadata": {},
   "source": [
    "increase `epochs` to about 1000, the `MAPE` will be about 10%. <br>\n",
    "Import `Attention` , the `MAPE` will decrease to about 7%"
   ]
  }
 ],
 "metadata": {
  "hide_input": false,
  "kernelspec": {
   "display_name": "Python 3 (ipykernel)",
   "language": "python",
   "name": "python3"
  },
  "language_info": {
   "codemirror_mode": {
    "name": "ipython",
    "version": 3
   },
   "file_extension": ".py",
   "mimetype": "text/x-python",
   "name": "python",
   "nbconvert_exporter": "python",
   "pygments_lexer": "ipython3",
   "version": "3.8.8"
  },
  "latex_envs": {
   "LaTeX_envs_menu_present": true,
   "autoclose": false,
   "autocomplete": true,
   "bibliofile": "biblio.bib",
   "cite_by": "apalike",
   "current_citInitial": 1,
   "eqLabelWithNumbers": true,
   "eqNumInitial": 1,
   "hotkeys": {
    "equation": "Ctrl-E",
    "itemize": "Ctrl-I"
   },
   "labels_anchors": false,
   "latex_user_defs": false,
   "report_style_numbering": false,
   "user_envs_cfg": false
  },
  "toc": {
   "base_numbering": 1,
   "nav_menu": {},
   "number_sections": true,
   "sideBar": true,
   "skip_h1_title": false,
   "title_cell": "Table of Contents",
   "title_sidebar": "Contents",
   "toc_cell": false,
   "toc_position": {},
   "toc_section_display": true,
   "toc_window_display": false
  },
  "varInspector": {
   "cols": {
    "lenName": 16,
    "lenType": 16,
    "lenVar": 40
   },
   "kernels_config": {
    "python": {
     "delete_cmd_postfix": "",
     "delete_cmd_prefix": "del ",
     "library": "var_list.py",
     "varRefreshCmd": "print(var_dic_list())"
    },
    "r": {
     "delete_cmd_postfix": ") ",
     "delete_cmd_prefix": "rm(",
     "library": "var_list.r",
     "varRefreshCmd": "cat(var_dic_list()) "
    }
   },
   "types_to_exclude": [
    "module",
    "function",
    "builtin_function_or_method",
    "instance",
    "_Feature"
   ],
   "window_display": false
  }
 },
 "nbformat": 4,
 "nbformat_minor": 5
}
